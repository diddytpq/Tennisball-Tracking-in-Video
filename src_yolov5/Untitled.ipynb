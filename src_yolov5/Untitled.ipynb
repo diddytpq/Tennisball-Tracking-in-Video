{
 "cells": [
  {
   "cell_type": "code",
   "execution_count": 1,
   "id": "df93904b",
   "metadata": {},
   "outputs": [],
   "source": [
    "import cv2\n",
    "import numpy as np\n",
    "import os\n",
    "import math\n",
    "from scipy.spatial import distance as dist\n",
    "from collections import OrderedDict\n",
    "from scipy.optimize import linear_sum_assignment\n",
    "from kalman_utils.KFilter import *"
   ]
  },
  {
   "cell_type": "code",
   "execution_count": null,
   "id": "8e8aae5e",
   "metadata": {},
   "outputs": [],
   "source": [
    "from filterpy.kalman import KalmanFilter, UnscentedKalmanFilter, MerweScaledSigmaPoints\n",
    "from filterpy.common import Q_discrete_white_noise"
   ]
  },
  {
   "cell_type": "code",
   "execution_count": 22,
   "id": "f819bb40",
   "metadata": {},
   "outputs": [],
   "source": [
    "a = [[170, 175, 196, 209], [150, 557, 174, 577], [625, 194, 640, 209], [170, 175, 196, 209], [173, 225, 202, 253], [435, 526, 476, 568], [435, 576, 476, 603]]\n",
    "\n",
    "b = np.array([[170, 175, 196, 209], [150, 557, 174, 577], [625, 194, 640, 209], [170, 175, 196, 209], [173, 225, 202, 253], [435, 526, 476, 568], [435, 576, 476, 603]])\n",
    "\n",
    "no_ball_box = list(set([tuple(set(i)) for i in a]))"
   ]
  },
  {
   "cell_type": "code",
   "execution_count": 15,
   "id": "a6ee7d62",
   "metadata": {},
   "outputs": [
    {
     "data": {
      "text/plain": [
       "[(640, 625, 194, 209),\n",
       " (577, 174, 557, 150),\n",
       " (225, 202, 173, 253),\n",
       " (568, 435, 476, 526),\n",
       " (209, 170, 196, 175),\n",
       " (576, 603, 435, 476)]"
      ]
     },
     "execution_count": 15,
     "metadata": {},
     "output_type": "execute_result"
    }
   ],
   "source": [
    "no_ball_box"
   ]
  },
  {
   "cell_type": "code",
   "execution_count": 16,
   "id": "139a48d4",
   "metadata": {},
   "outputs": [
    {
     "name": "stdout",
     "output_type": "stream",
     "text": [
      "[170, 175, 196, 209]\n",
      "[150, 557, 174, 577]\n",
      "[625, 194, 640, 209]\n",
      "[170, 175, 196, 209]\n",
      "[173, 225, 202, 253]\n",
      "[435, 526, 476, 568]\n",
      "[435, 576, 476, 603]\n"
     ]
    }
   ],
   "source": [
    "for i in a:\n",
    "    print(set(i))"
   ]
  },
  {
   "cell_type": "code",
   "execution_count": 17,
   "id": "970a5763",
   "metadata": {},
   "outputs": [
    {
     "name": "stdout",
     "output_type": "stream",
     "text": [
      "{209, 170, 196, 175}\n",
      "{577, 174, 557, 150}\n",
      "{640, 625, 194, 209}\n",
      "{209, 170, 196, 175}\n",
      "{225, 202, 173, 253}\n",
      "{568, 435, 476, 526}\n",
      "{576, 603, 435, 476}\n"
     ]
    }
   ],
   "source": [
    "for i in a:\n",
    "    print(set(i))"
   ]
  },
  {
   "cell_type": "code",
   "execution_count": 32,
   "id": "61101794",
   "metadata": {},
   "outputs": [],
   "source": [
    "new_array = [tuple(row) for row in b]"
   ]
  },
  {
   "cell_type": "code",
   "execution_count": 35,
   "id": "5fd0dd50",
   "metadata": {},
   "outputs": [],
   "source": [
    "c = np.unique(new_array)"
   ]
  },
  {
   "cell_type": "code",
   "execution_count": 36,
   "id": "73b9b68f",
   "metadata": {},
   "outputs": [
    {
     "data": {
      "text/plain": [
       "array([150, 170, 173, 174, 175, 194, 196, 202, 209, 225, 253, 435, 476,\n",
       "       526, 557, 568, 576, 577, 603, 625, 640])"
      ]
     },
     "execution_count": 36,
     "metadata": {},
     "output_type": "execute_result"
    }
   ],
   "source": [
    "c"
   ]
  },
  {
   "cell_type": "code",
   "execution_count": 33,
   "id": "a3342ad4",
   "metadata": {},
   "outputs": [
    {
     "data": {
      "text/plain": [
       "[(170, 175, 196, 209),\n",
       " (150, 557, 174, 577),\n",
       " (625, 194, 640, 209),\n",
       " (170, 175, 196, 209),\n",
       " (173, 225, 202, 253),\n",
       " (435, 526, 476, 568),\n",
       " (435, 576, 476, 603)]"
      ]
     },
     "execution_count": 33,
     "metadata": {},
     "output_type": "execute_result"
    }
   ],
   "source": [
    "new_array"
   ]
  },
  {
   "cell_type": "code",
   "execution_count": 2,
   "id": "dc53829d",
   "metadata": {},
   "outputs": [
    {
     "data": {
      "text/plain": [
       "38"
      ]
     },
     "execution_count": 2,
     "metadata": {},
     "output_type": "execute_result"
    }
   ],
   "source": [
    "['person', 'bicycle', 'car', 'motorcycle', 'airplane', 'bus', 'train', 'truck', 'boat', 'traffic light',\n",
    "        'fire hydrant', 'stop sign', 'parking meter', 'bench', 'bird', 'cat', 'dog', 'horse', 'sheep', 'cow',\n",
    "        'elephant', 'bear', 'zebra', 'giraffe', 'backpack', 'umbrella', 'handbag', 'tie', 'suitcase', 'frisbee',\n",
    "        'skis', 'snowboard', 'sports ball', 'kite', 'baseball bat', 'baseball glove', 'skateboard', 'surfboard',\n",
    "        'tennis racket', 'bottle', 'wine glass', 'cup', 'fork', 'knife', 'spoon', 'bowl', 'banana', 'apple',\n",
    "        'sandwich', 'orange', 'broccoli', 'carrot', 'hot dog', 'pizza', 'donut', 'cake', 'chair', 'couch',\n",
    "        'potted plant', 'bed', 'dining table', 'toilet', 'tv', 'laptop', 'mouse', 'remote', 'keyboard', 'cell phone',\n",
    "        'microwave', 'oven', 'toaster', 'sink', 'refrigerator', 'book', 'clock', 'vase', 'scissors', 'teddy bear',\n",
    "        'hair drier', 'toothbrush'].index(\"tennis racket\")"
   ]
  },
  {
   "cell_type": "code",
   "execution_count": 4,
   "id": "aaa13b71",
   "metadata": {
    "scrolled": false
   },
   "outputs": [
    {
     "name": "stdout",
     "output_type": "stream",
     "text": [
      "x :  640\n",
      "y :  360.0\n",
      "total_pixel :  460800.0\n",
      "x :  656\n",
      "y :  369.0\n",
      "total_pixel :  484128.0\n",
      "x :  672\n",
      "y :  378.0\n",
      "total_pixel :  508032.0\n",
      "x :  688\n",
      "y :  387.0\n",
      "total_pixel :  532512.0\n",
      "x :  704\n",
      "y :  396.0\n",
      "total_pixel :  557568.0\n",
      "x :  720\n",
      "y :  405.0\n",
      "total_pixel :  583200.0\n",
      "x :  736\n",
      "y :  414.0\n",
      "total_pixel :  609408.0\n",
      "x :  752\n",
      "y :  423.0\n",
      "total_pixel :  636192.0\n",
      "x :  768\n",
      "y :  432.0\n",
      "total_pixel :  663552.0\n",
      "x :  784\n",
      "y :  441.0\n",
      "total_pixel :  691488.0\n",
      "x :  800\n",
      "y :  450.0\n",
      "total_pixel :  720000.0\n",
      "x :  816\n",
      "y :  459.0\n",
      "total_pixel :  749088.0\n",
      "x :  832\n",
      "y :  468.0\n",
      "total_pixel :  778752.0\n",
      "x :  848\n",
      "y :  477.0\n",
      "total_pixel :  808992.0\n",
      "x :  864\n",
      "y :  486.0\n",
      "total_pixel :  839808.0\n",
      "x :  880\n",
      "y :  495.0\n",
      "total_pixel :  871200.0\n",
      "x :  896\n",
      "y :  504.0\n",
      "total_pixel :  903168.0\n",
      "x :  912\n",
      "y :  513.0\n",
      "total_pixel :  935712.0\n",
      "x :  928\n",
      "y :  522.0\n",
      "total_pixel :  968832.0\n",
      "x :  944\n",
      "y :  531.0\n",
      "total_pixel :  1002528.0\n",
      "x :  960\n",
      "y :  540.0\n",
      "total_pixel :  1036800.0\n",
      "x :  976\n",
      "y :  549.0\n",
      "total_pixel :  1071648.0\n",
      "x :  992\n",
      "y :  558.0\n",
      "total_pixel :  1107072.0\n",
      "x :  1008\n",
      "y :  567.0\n",
      "total_pixel :  1143072.0\n",
      "x :  1024\n",
      "y :  576.0\n",
      "total_pixel :  1179648.0\n",
      "x :  1040\n",
      "y :  585.0\n",
      "total_pixel :  1216800.0\n",
      "x :  1056\n",
      "y :  594.0\n",
      "total_pixel :  1254528.0\n",
      "x :  1072\n",
      "y :  603.0\n",
      "total_pixel :  1292832.0\n"
     ]
    }
   ],
   "source": [
    "for i in range(640, 1080):\n",
    "    a = i\n",
    "\n",
    "    \n",
    "    if ((9 * a)/16).is_integer():\n",
    "        print(\"x : \",i)\n",
    "        print(\"y : \",(9 * a)/16)\n",
    "        print(\"total_pixel : \", a * (9 * a)/16 *2 )\n",
    "        "
   ]
  },
  {
   "cell_type": "code",
   "execution_count": 50,
   "id": "e8064147",
   "metadata": {},
   "outputs": [
    {
     "data": {
      "text/plain": [
       "1.35"
      ]
     },
     "execution_count": 50,
     "metadata": {},
     "output_type": "execute_result"
    }
   ],
   "source": [
    "1276,600"
   ]
  },
  {
   "cell_type": "code",
   "execution_count": 53,
   "id": "bac054dc",
   "metadata": {},
   "outputs": [],
   "source": [
    "x_meter2pix = 23.77 / x_pix_length\n",
    "y_meter2pix = 10.97 / y_pix_length"
   ]
  },
  {
   "cell_type": "code",
   "execution_count": 52,
   "id": "feaaff6c",
   "metadata": {},
   "outputs": [],
   "source": [
    "y_pix_length, x_pix_length = 600, 1276"
   ]
  },
  {
   "cell_type": "code",
   "execution_count": 57,
   "id": "e736de17",
   "metadata": {},
   "outputs": [
    {
     "data": {
      "text/plain": [
       "14.809500000000002"
      ]
     },
     "execution_count": 57,
     "metadata": {},
     "output_type": "execute_result"
    }
   ],
   "source": [
    "x_meter2pix * 1500\n",
    "810 * y_meter2pix"
   ]
  },
  {
   "cell_type": "code",
   "execution_count": 3,
   "id": "9de45d6d",
   "metadata": {},
   "outputs": [
    {
     "data": {
      "text/plain": [
       "74.66666666666667"
      ]
     },
     "execution_count": 3,
     "metadata": {},
     "output_type": "execute_result"
    }
   ],
   "source": [
    "(1500 - 1276)/3"
   ]
  },
  {
   "cell_type": "code",
   "execution_count": 7,
   "id": "1b030ac2",
   "metadata": {},
   "outputs": [],
   "source": [
    "def trans_xy(img_ori, point_list):\n",
    "\n",
    "    for i in range(len(point_list[1])):\n",
    "        x_cen, y_cen = point_list[1][i]\n",
    "\n",
    "        point_list[1][i][1] = y_cen - (img_ori.shape[0] / 2)\n",
    "\n",
    "    return point_list"
   ]
  },
  {
   "cell_type": "code",
   "execution_count": 14,
   "id": "1521b694",
   "metadata": {},
   "outputs": [
    {
     "ename": "ValueError",
     "evalue": "too many values to unpack (expected 2)",
     "output_type": "error",
     "traceback": [
      "\u001b[0;31m---------------------------------------------------------------------------\u001b[0m",
      "\u001b[0;31mValueError\u001b[0m                                Traceback (most recent call last)",
      "\u001b[0;32m<ipython-input-14-b8379e9cec26>\u001b[0m in \u001b[0;36m<module>\u001b[0;34m\u001b[0m\n\u001b[1;32m      1\u001b[0m \u001b[0mimg\u001b[0m \u001b[0;34m=\u001b[0m \u001b[0mnp\u001b[0m\u001b[0;34m.\u001b[0m\u001b[0mzeros\u001b[0m\u001b[0;34m(\u001b[0m\u001b[0;34m[\u001b[0m\u001b[0;36m752\u001b[0m\u001b[0;34m,\u001b[0m \u001b[0;36m423\u001b[0m \u001b[0;34m*\u001b[0m \u001b[0;36m2\u001b[0m\u001b[0;34m,\u001b[0m \u001b[0;36m3\u001b[0m\u001b[0;34m]\u001b[0m\u001b[0;34m)\u001b[0m\u001b[0;34m\u001b[0m\u001b[0;34m\u001b[0m\u001b[0m\n\u001b[1;32m      2\u001b[0m \u001b[0;34m\u001b[0m\u001b[0m\n\u001b[0;32m----> 3\u001b[0;31m \u001b[0mtrans_xy\u001b[0m\u001b[0;34m(\u001b[0m\u001b[0mimg\u001b[0m\u001b[0;34m,\u001b[0m\u001b[0ma\u001b[0m\u001b[0;34m)\u001b[0m\u001b[0;34m\u001b[0m\u001b[0;34m\u001b[0m\u001b[0m\n\u001b[0m",
      "\u001b[0;32m<ipython-input-7-dce382fd1fb9>\u001b[0m in \u001b[0;36mtrans_xy\u001b[0;34m(img_ori, point_list)\u001b[0m\n\u001b[1;32m      2\u001b[0m \u001b[0;34m\u001b[0m\u001b[0m\n\u001b[1;32m      3\u001b[0m     \u001b[0;32mfor\u001b[0m \u001b[0mi\u001b[0m \u001b[0;32min\u001b[0m \u001b[0mrange\u001b[0m\u001b[0;34m(\u001b[0m\u001b[0mlen\u001b[0m\u001b[0;34m(\u001b[0m\u001b[0mpoint_list\u001b[0m\u001b[0;34m[\u001b[0m\u001b[0;36m1\u001b[0m\u001b[0;34m]\u001b[0m\u001b[0;34m)\u001b[0m\u001b[0;34m)\u001b[0m\u001b[0;34m:\u001b[0m\u001b[0;34m\u001b[0m\u001b[0;34m\u001b[0m\u001b[0m\n\u001b[0;32m----> 4\u001b[0;31m         \u001b[0mx_cen\u001b[0m\u001b[0;34m,\u001b[0m \u001b[0my_cen\u001b[0m \u001b[0;34m=\u001b[0m \u001b[0mpoint_list\u001b[0m\u001b[0;34m[\u001b[0m\u001b[0;36m1\u001b[0m\u001b[0;34m]\u001b[0m\u001b[0;34m[\u001b[0m\u001b[0mi\u001b[0m\u001b[0;34m]\u001b[0m\u001b[0;34m\u001b[0m\u001b[0;34m\u001b[0m\u001b[0m\n\u001b[0m\u001b[1;32m      5\u001b[0m \u001b[0;34m\u001b[0m\u001b[0m\n\u001b[1;32m      6\u001b[0m         \u001b[0mpoint_list\u001b[0m\u001b[0;34m[\u001b[0m\u001b[0;36m1\u001b[0m\u001b[0;34m]\u001b[0m\u001b[0;34m[\u001b[0m\u001b[0mi\u001b[0m\u001b[0;34m]\u001b[0m\u001b[0;34m[\u001b[0m\u001b[0;36m1\u001b[0m\u001b[0;34m]\u001b[0m \u001b[0;34m=\u001b[0m \u001b[0my_cen\u001b[0m \u001b[0;34m-\u001b[0m \u001b[0;34m(\u001b[0m\u001b[0mimg_ori\u001b[0m\u001b[0;34m.\u001b[0m\u001b[0mshape\u001b[0m\u001b[0;34m[\u001b[0m\u001b[0;36m0\u001b[0m\u001b[0;34m]\u001b[0m \u001b[0;34m/\u001b[0m \u001b[0;36m2\u001b[0m\u001b[0;34m)\u001b[0m\u001b[0;34m\u001b[0m\u001b[0;34m\u001b[0m\u001b[0m\n",
      "\u001b[0;31mValueError\u001b[0m: too many values to unpack (expected 2)"
     ]
    }
   ],
   "source": [
    "img = np.zeros([752, 423 * 2, 3])\n",
    " \n",
    "trans_xy(img,a)"
   ]
  },
  {
   "cell_type": "code",
   "execution_count": 38,
   "id": "6086f879",
   "metadata": {},
   "outputs": [],
   "source": [
    "def cal_ball_position(ball_stats_list):\n",
    "    \n",
    "    net_length = 13.11\n",
    "    post_hegith_avg = 1.125\n",
    "    \n",
    "    for i in range(len(ball_stats_list)):\n",
    "    \n",
    "        ball_distance_list = ball_stats_list[i][0]\n",
    "        ball_height_list = ball_stats_list[i][1]\n",
    "\n",
    "        height = sum(ball_height_list) / 2 - post_hegith_avg\n",
    "\n",
    "        if sum(ball_distance_list) < 13:\n",
    "            return [np.nan, np.nan, np.nan]\n",
    "\n",
    "        ball2net_length_x_L = ball_distance_list[0] * np.sin(theta_L)\n",
    "        ball_position_y_L = ball_distance_list[0] * np.cos(theta_L)\n",
    "\n",
    "        ball_plate_angle_L = np.arcsin(height / ball2net_length_x_L)\n",
    "\n",
    "        ball_position_x_L = ball2net_length_x_L * np.cos(ball_plate_angle_L)\n",
    "\n",
    "        ball2net_length_x_R = ball_distance_list[1] * np.sin(theta_R)\n",
    "        ball_position_y_R = ball_distance_list[1] * np.cos(theta_R)\n",
    "\n",
    "        ball_plate_angle_R = np.arcsin(height / ball2net_length_x_R)\n",
    "\n",
    "        ball_position_x_R = ball2net_length_x_R * np.cos(ball_plate_angle_R)\n",
    "\n",
    "\n",
    "        \"\"\"print(\"theta_L, theta_R : \", np.rad2deg(self.theta_L), np.rad2deg(self.theta_R))\n",
    "        print(\"ball_plate_angle_L, ball_plate_angle_R : \", np.rad2deg(ball_plate_angle_L), np.rad2deg(ball_plate_angle_R))\n",
    "        print([-ball_position_x_L, ball_position_y_L - 6.4, height + 1])\n",
    "        print([-ball_position_x_R, 6.4 - ball_position_y_R, height + 1])\"\"\"\n",
    "\n",
    "        if theta_L > theta_R:\n",
    "            ball_position_y = ball_position_y_L - (net_length / 2)\n",
    "\n",
    "        else :\n",
    "            ball_position_y = (net_length / 2) - ball_position_y_R\n",
    "\n",
    "    return [-ball_position_x_L, ball_position_y, height + post_hegith_avg]\n"
   ]
  },
  {
   "cell_type": "code",
   "execution_count": 39,
   "id": "1fc74e97",
   "metadata": {},
   "outputs": [],
   "source": [
    "def get_depth_height(L_pos, R_pos):\n",
    "        \n",
    "    depth_height = []\n",
    "\n",
    "    cx = 360\n",
    "    cy = 204\n",
    "    focal_length = 320.754\n",
    "\n",
    "    net_length = 13.11\n",
    "\n",
    "    post_hegith_left = 1.13\n",
    "    post_hegith_right = 1.12 \n",
    "\n",
    "    for i in range(len(L_pos)):\n",
    "        x_L, y_L = L_pos[i][0] - cx, L_pos[i][1] - cy\n",
    "\n",
    "        for j in range(len(R_pos)):\n",
    "            x_R, y_R = R_pos[j][0] - cx, R_pos[j][1] - cy\n",
    "\n",
    "\n",
    "            c_L = np.sqrt(focal_length ** 2 + x_L ** 2 + y_L ** 2)\n",
    "            a_L = np.sqrt(focal_length ** 2 + x_L ** 2)\n",
    "\n",
    "            if x_L < 0:\n",
    "                th_L = 0.785398 + np.arccos(focal_length / a_L)\n",
    "\n",
    "            else :\n",
    "                th_L = 0.785398 - np.arccos(focal_length / a_L)\n",
    "\n",
    "\n",
    "            b_L = a_L * np.cos(th_L)\n",
    "\n",
    "            c_R = np.sqrt(focal_length ** 2 + x_R ** 2 + y_R ** 2)\n",
    "            a_R = np.sqrt(focal_length ** 2 + x_R ** 2)\n",
    "\n",
    "            if x_R > 0:\n",
    "                th_R = 0.785398 + np.arccos(focal_length / a_R)\n",
    "\n",
    "            else :\n",
    "                th_R = 0.785398 - np.arccos(focal_length / a_R)\n",
    "\n",
    "            b_R = a_R * np.cos(th_R)\n",
    "\n",
    "            theta_L = np.arccos(b_L/c_L)\n",
    "            theta_R = np.arccos(b_R/c_R)\n",
    "\n",
    "\n",
    "            D_L = net_length * np.sin(theta_R) / np.sin(3.14 - (theta_L + theta_R))\n",
    "            D_R = net_length * np.sin(theta_L) / np.sin(3.14 - (theta_L + theta_R))\n",
    "\n",
    "            height_L = abs(D_L * np.sin(np.arcsin(y_L/c_L)))\n",
    "            height_R = abs(D_R * np.sin(np.arcsin(y_R/c_R)))\n",
    "\n",
    "            #height_L = abs(D_L * np.sin(np.arctan(y_L/a_L)))\n",
    "            #height_R = abs(D_R * np.sin(np.arctan(y_R/a_R)))\n",
    "\n",
    "            if y_L < 0:\n",
    "                height_L += post_hegith_left\n",
    "\n",
    "            else:\n",
    "                height_L -= post_hegith_left  \n",
    "\n",
    "\n",
    "            if y_R < 0:\n",
    "                height_R += post_hegith_right\n",
    "\n",
    "            else:\n",
    "                height_R -= post_hegith_right  \n",
    "\n",
    "\n",
    "            print(L_pos[i],R_pos[j])\n",
    "            print([D_L, D_R, height_L, height_R])\n",
    "            depth_height.append([[D_L, D_R], [height_L, height_R]])\n",
    "\n",
    "    return depth_height"
   ]
  },
  {
   "cell_type": "code",
   "execution_count": 40,
   "id": "e595bd95",
   "metadata": {
    "scrolled": true
   },
   "outputs": [
    {
     "name": "stdout",
     "output_type": "stream",
     "text": [
      "[260, 162] [351, 167]\n",
      "[9.458568396152303, 12.128951367682397, 2.3032568761005505, 2.509357032389613]\n"
     ]
    }
   ],
   "source": [
    "ball_cen_left =  [[260, 162]]\n",
    "ball_cen_right =  [[351, 167]]\n",
    "\n",
    "ball_stats_list = get_depth_height(ball_cen_left,ball_cen_right)"
   ]
  },
  {
   "cell_type": "code",
   "execution_count": 41,
   "id": "58ac3d93",
   "metadata": {},
   "outputs": [
    {
     "ename": "NameError",
     "evalue": "name 'self' is not defined",
     "output_type": "error",
     "traceback": [
      "\u001b[0;31m---------------------------------------------------------------------------\u001b[0m",
      "\u001b[0;31mNameError\u001b[0m                                 Traceback (most recent call last)",
      "\u001b[0;32m<ipython-input-41-dda72d65d8ed>\u001b[0m in \u001b[0;36m<module>\u001b[0;34m\u001b[0m\n\u001b[0;32m----> 1\u001b[0;31m \u001b[0mcal_ball_position\u001b[0m\u001b[0;34m(\u001b[0m\u001b[0mball_stats_list\u001b[0m\u001b[0;34m)\u001b[0m\u001b[0;34m\u001b[0m\u001b[0;34m\u001b[0m\u001b[0m\n\u001b[0m",
      "\u001b[0;32m<ipython-input-38-928f0858bfd2>\u001b[0m in \u001b[0;36mcal_ball_position\u001b[0;34m(ball_stats_list)\u001b[0m\n\u001b[1;32m     14\u001b[0m             \u001b[0;32mreturn\u001b[0m \u001b[0;34m[\u001b[0m\u001b[0mnp\u001b[0m\u001b[0;34m.\u001b[0m\u001b[0mnan\u001b[0m\u001b[0;34m,\u001b[0m \u001b[0mnp\u001b[0m\u001b[0;34m.\u001b[0m\u001b[0mnan\u001b[0m\u001b[0;34m,\u001b[0m \u001b[0mnp\u001b[0m\u001b[0;34m.\u001b[0m\u001b[0mnan\u001b[0m\u001b[0;34m]\u001b[0m\u001b[0;34m\u001b[0m\u001b[0;34m\u001b[0m\u001b[0m\n\u001b[1;32m     15\u001b[0m \u001b[0;34m\u001b[0m\u001b[0m\n\u001b[0;32m---> 16\u001b[0;31m         \u001b[0mball2net_length_x_L\u001b[0m \u001b[0;34m=\u001b[0m \u001b[0mball_distance_list\u001b[0m\u001b[0;34m[\u001b[0m\u001b[0;36m0\u001b[0m\u001b[0;34m]\u001b[0m \u001b[0;34m*\u001b[0m \u001b[0mnp\u001b[0m\u001b[0;34m.\u001b[0m\u001b[0msin\u001b[0m\u001b[0;34m(\u001b[0m\u001b[0mself\u001b[0m\u001b[0;34m.\u001b[0m\u001b[0mtheta_L\u001b[0m\u001b[0;34m)\u001b[0m\u001b[0;34m\u001b[0m\u001b[0;34m\u001b[0m\u001b[0m\n\u001b[0m\u001b[1;32m     17\u001b[0m         \u001b[0mball_position_y_L\u001b[0m \u001b[0;34m=\u001b[0m \u001b[0mball_distance_list\u001b[0m\u001b[0;34m[\u001b[0m\u001b[0;36m0\u001b[0m\u001b[0;34m]\u001b[0m \u001b[0;34m*\u001b[0m \u001b[0mnp\u001b[0m\u001b[0;34m.\u001b[0m\u001b[0mcos\u001b[0m\u001b[0;34m(\u001b[0m\u001b[0mself\u001b[0m\u001b[0;34m.\u001b[0m\u001b[0mtheta_L\u001b[0m\u001b[0;34m)\u001b[0m\u001b[0;34m\u001b[0m\u001b[0;34m\u001b[0m\u001b[0m\n\u001b[1;32m     18\u001b[0m \u001b[0;34m\u001b[0m\u001b[0m\n",
      "\u001b[0;31mNameError\u001b[0m: name 'self' is not defined"
     ]
    }
   ],
   "source": [
    "cal_ball_position(ball_stats_list)"
   ]
  },
  {
   "cell_type": "code",
   "execution_count": 42,
   "id": "f16cf5fe",
   "metadata": {},
   "outputs": [],
   "source": [
    "def get_ball_pos(L_pos, R_pos):\n",
    "        \n",
    "    depth_height = []\n",
    "\n",
    "    cx = 360\n",
    "    cy = 204\n",
    "    focal_length = 320.754\n",
    "\n",
    "    net_length = 13.11\n",
    "\n",
    "    post_hegith_left = 1.13\n",
    "    post_hegith_right = 1.12 \n",
    "\n",
    "    post_hegith_avg = (post_hegith_left + post_hegith_right) / 2\n",
    "\n",
    "    for i in range(len(L_pos)):\n",
    "        x_L, y_L = L_pos[i][0] - cx, L_pos[i][1] - cy\n",
    "\n",
    "        for j in range(len(R_pos)):\n",
    "            x_R, y_R = R_pos[j][0] - cx, R_pos[j][1] - cy\n",
    "\n",
    "\n",
    "            c_L = np.sqrt(focal_length ** 2 + x_L ** 2 + y_L ** 2)\n",
    "            a_L = np.sqrt(focal_length ** 2 + x_L ** 2)\n",
    "\n",
    "            if x_L < 0:\n",
    "                th_L = 0.785398 + np.arccos(focal_length / a_L)\n",
    "\n",
    "            else :\n",
    "                th_L = 0.785398 - np.arccos(focal_length / a_L)\n",
    "\n",
    "\n",
    "            b_L = a_L * np.cos(th_L)\n",
    "\n",
    "            c_R = np.sqrt(focal_length ** 2 + x_R ** 2 + y_R ** 2)\n",
    "            a_R = np.sqrt(focal_length ** 2 + x_R ** 2)\n",
    "\n",
    "            if x_R > 0:\n",
    "                th_R = 0.785398 + np.arccos(focal_length / a_R)\n",
    "\n",
    "            else :\n",
    "                th_R = 0.785398 - np.arccos(focal_length / a_R)\n",
    "\n",
    "            b_R = a_R * np.cos(th_R)\n",
    "\n",
    "            theta_L = np.arccos(b_L/c_L)\n",
    "            theta_R = np.arccos(b_R/c_R)\n",
    "\n",
    "\n",
    "            D_L = net_length * np.sin(theta_R) / np.sin(3.14 - (theta_L + theta_R))\n",
    "            D_R = net_length * np.sin(theta_L) / np.sin(3.14 - (theta_L + theta_R))\n",
    "\n",
    "            height_L = abs(D_L * np.sin(np.arcsin(y_L/c_L)))\n",
    "            height_R = abs(D_R * np.sin(np.arcsin(y_R/c_R)))\n",
    "\n",
    "            #height_L = abs(D_L * np.sin(np.arctan(y_L/a_L)))\n",
    "            #height_R = abs(D_R * np.sin(np.arctan(y_R/a_R)))\n",
    "\n",
    "            if y_L < 0:\n",
    "                height_L += post_hegith_left\n",
    "\n",
    "            else:\n",
    "                height_L -= post_hegith_left  \n",
    "\n",
    "\n",
    "            if y_R < 0:\n",
    "                height_R += post_hegith_right\n",
    "\n",
    "            else:\n",
    "                height_R -= post_hegith_right  \n",
    "\n",
    "            ball_height_list = [height_L, height_R]\n",
    "            ball_distance_list = [D_L, D_R]\n",
    "\n",
    "            height = sum(ball_height_list) / 2 - post_hegith_avg\n",
    "\n",
    "            ball2net_length_x_L = ball_distance_list[0] * np.sin(theta_L)\n",
    "            ball_position_y_L = ball_distance_list[0] * np.cos(theta_L)\n",
    "\n",
    "            ball_plate_angle_L = np.arcsin(height / ball2net_length_x_L)\n",
    "\n",
    "            ball_position_x_L = ball2net_length_x_L * np.cos(ball_plate_angle_L)\n",
    "\n",
    "            ball2net_length_x_R = ball_distance_list[1] * np.sin(theta_R)\n",
    "            ball_position_y_R = ball_distance_list[1] * np.cos(theta_R)\n",
    "\n",
    "            ball_plate_angle_R = np.arcsin(height / ball2net_length_x_R)\n",
    "\n",
    "            ball_position_x_R = ball2net_length_x_R * np.cos(ball_plate_angle_R)\n",
    "\n",
    "            if theta_L > theta_R:\n",
    "                ball_position_y = ball_position_y_L - (net_length / 2)\n",
    "\n",
    "            else :\n",
    "                ball_position_y = (net_length / 2) - ball_position_y_R\n",
    "\n",
    "\n",
    "            print(L_pos[i],R_pos[j])\n",
    "            #print([D_L, D_R, height_L, height_R])\n",
    "            print([-ball_position_x_L, ball_position_y, height + post_hegith_avg])\n",
    "\n",
    "            depth_height.append([[D_L, D_R], [height_L, height_R]])\n",
    "\n",
    "            return [-ball_position_x_L, ball_position_y, height + post_hegith_avg]"
   ]
  },
  {
   "cell_type": "code",
   "execution_count": 44,
   "id": "eb248254",
   "metadata": {},
   "outputs": [
    {
     "name": "stdout",
     "output_type": "stream",
     "text": [
      "[298, 153] [319, 160]\n",
      "[-6.66652032789926, -2.0337485082041438, 2.493953152765253]\n"
     ]
    }
   ],
   "source": [
    "ball_cen_left =  [[298, 153]]\n",
    "ball_cen_right =  [[319, 160]]\n",
    "\n",
    "ball_stats_list = get_ball_pos(ball_cen_left,ball_cen_right)"
   ]
  },
  {
   "cell_type": "code",
   "execution_count": null,
   "id": "48b8bf05",
   "metadata": {},
   "outputs": [],
   "source": [
    "def check_vel_noise():\n",
    "\n",
    "    y_vel_list = np.array(esti_ball_val_list)[:,1]\n",
    "\n",
    "\n",
    "    if len(y_vel_list) > 3 :\n",
    "\n",
    "        vel_mean = np.mean(y_vel_list)\n",
    "\n",
    "        if abs(abs(vel_mean) - abs(y_vel_list[-1])) > 2:\n",
    "\n",
    "            vel_mean = np.mean(y_vel_list[:-1])\n",
    "            esti_ball_val_list[-1][1] = vel_mean\n",
    "\n",
    "        return esti_ball_val_list[-1]\n",
    "\n",
    "    else:\n",
    "        return esti_ball_val_list[-1]\n"
   ]
  },
  {
   "cell_type": "code",
   "execution_count": 45,
   "id": "6b26a513",
   "metadata": {},
   "outputs": [],
   "source": [
    "def cal_landing_point(pos):\n",
    "\n",
    "    t_list = []\n",
    "\n",
    "    #vel = self.check_vel_noise()\n",
    "\n",
    "    x0, y0, z0 = pos[0], pos[1], pos[2]\n",
    "    vx, vy, vz = vel[0], vel[1], vel[2]\n",
    "\n",
    "    a = -((0.5 * 0.507 * 1.2041 * np.pi * (0.033 ** 2) * vz ** 2 ) / 0.057 + 9.8 / 2 )\n",
    "    b = vz\n",
    "    c = z0\n",
    "\n",
    "    t_list.append((-b + np.sqrt(b ** 2 - 4 * a * c))/(2 * a))\n",
    "    t_list.append((-b - np.sqrt(b ** 2 - 4 * a * c))/(2 * a))\n",
    "\n",
    "    t = max(t_list)\n",
    "\n",
    "    x = np.array(x0 + vx * t - (0.5 * 0.507 * 1.2041 * np.pi * (0.033 ** 2) * vx ** 2 ) * (t ** 2) / 0.057,float)\n",
    "    y = np.array(y0 + vy * t - (0.5 * 0.507 * 1.2041 * np.pi * (0.033 ** 2) * vy ** 2 ) * (t ** 2) / 0.057,float)\n",
    "    z = np.array(z0 + vz * t - ((0.5 * 0.507 * 1.2041 * np.pi * (0.033 ** 2) * vz ** 2 ) / 0.057 + 9.8 / 2) * (t ** 2),float)\n",
    "\n",
    "    return [np.round(x,3), np.round(y,3), np.round(z,3)]"
   ]
  },
  {
   "cell_type": "code",
   "execution_count": 46,
   "id": "b679289e",
   "metadata": {},
   "outputs": [
    {
     "ename": "TypeError",
     "evalue": "'function' object is not subscriptable",
     "output_type": "error",
     "traceback": [
      "\u001b[0;31m---------------------------------------------------------------------------\u001b[0m",
      "\u001b[0;31mTypeError\u001b[0m                                 Traceback (most recent call last)",
      "\u001b[0;32m<ipython-input-46-81d0f7c13409>\u001b[0m in \u001b[0;36m<module>\u001b[0;34m\u001b[0m\n\u001b[0;32m----> 1\u001b[0;31m \u001b[0mcal_landing_point\u001b[0m\u001b[0;34m(\u001b[0m\u001b[0mcal_landing_point\u001b[0m\u001b[0;34m)\u001b[0m\u001b[0;34m\u001b[0m\u001b[0;34m\u001b[0m\u001b[0m\n\u001b[0m",
      "\u001b[0;32m<ipython-input-45-c8be5879daab>\u001b[0m in \u001b[0;36mcal_landing_point\u001b[0;34m(pos)\u001b[0m\n\u001b[1;32m      5\u001b[0m     \u001b[0;31m#vel = self.check_vel_noise()\u001b[0m\u001b[0;34m\u001b[0m\u001b[0;34m\u001b[0m\u001b[0;34m\u001b[0m\u001b[0m\n\u001b[1;32m      6\u001b[0m \u001b[0;34m\u001b[0m\u001b[0m\n\u001b[0;32m----> 7\u001b[0;31m     \u001b[0mx0\u001b[0m\u001b[0;34m,\u001b[0m \u001b[0my0\u001b[0m\u001b[0;34m,\u001b[0m \u001b[0mz0\u001b[0m \u001b[0;34m=\u001b[0m \u001b[0mpos\u001b[0m\u001b[0;34m[\u001b[0m\u001b[0;36m0\u001b[0m\u001b[0;34m]\u001b[0m\u001b[0;34m,\u001b[0m \u001b[0mpos\u001b[0m\u001b[0;34m[\u001b[0m\u001b[0;36m1\u001b[0m\u001b[0;34m]\u001b[0m\u001b[0;34m,\u001b[0m \u001b[0mpos\u001b[0m\u001b[0;34m[\u001b[0m\u001b[0;36m2\u001b[0m\u001b[0;34m]\u001b[0m\u001b[0;34m\u001b[0m\u001b[0;34m\u001b[0m\u001b[0m\n\u001b[0m\u001b[1;32m      8\u001b[0m     \u001b[0mvx\u001b[0m\u001b[0;34m,\u001b[0m \u001b[0mvy\u001b[0m\u001b[0;34m,\u001b[0m \u001b[0mvz\u001b[0m \u001b[0;34m=\u001b[0m \u001b[0mvel\u001b[0m\u001b[0;34m[\u001b[0m\u001b[0;36m0\u001b[0m\u001b[0;34m]\u001b[0m\u001b[0;34m,\u001b[0m \u001b[0mvel\u001b[0m\u001b[0;34m[\u001b[0m\u001b[0;36m1\u001b[0m\u001b[0;34m]\u001b[0m\u001b[0;34m,\u001b[0m \u001b[0mvel\u001b[0m\u001b[0;34m[\u001b[0m\u001b[0;36m2\u001b[0m\u001b[0;34m]\u001b[0m\u001b[0;34m\u001b[0m\u001b[0;34m\u001b[0m\u001b[0m\n\u001b[1;32m      9\u001b[0m \u001b[0;34m\u001b[0m\u001b[0m\n",
      "\u001b[0;31mTypeError\u001b[0m: 'function' object is not subscriptable"
     ]
    }
   ],
   "source": [
    "cal_landing_point(cal_landing_point)"
   ]
  },
  {
   "cell_type": "code",
   "execution_count": 49,
   "id": "720342ac",
   "metadata": {},
   "outputs": [
    {
     "name": "stdout",
     "output_type": "stream",
     "text": [
      "0\n",
      "1\n",
      "2\n",
      "3\n",
      "0\n",
      "1\n",
      "2\n",
      "3\n",
      "0\n",
      "1\n",
      "2\n",
      "3\n"
     ]
    }
   ],
   "source": [
    "for i in range(3):\n",
    "    for j in range(4):\n",
    "        print(j)\n",
    "        if j == 3:\n",
    "            break\n",
    "            \n",
    "        "
   ]
  },
  {
   "cell_type": "code",
   "execution_count": 56,
   "id": "1137d857",
   "metadata": {},
   "outputs": [],
   "source": [
    "\n",
    "class Ball_Pos_Estimation():\n",
    "\n",
    "    def __init__(self):\n",
    "        self.pre_ball_cen_left_list = []\n",
    "        self.pre_ball_cen_right_list = []\n",
    "\n",
    "\n",
    "\n",
    "    def check_ball_move_update(self, ball_cen_left_list, ball_cen_right_list):\n",
    "\n",
    "        self.swing_check = True\n",
    "\n",
    "        left_flag = False\n",
    "        right_flag = False\n",
    "\n",
    "        self.ball_cen_left_list = ball_cen_left_list\n",
    "        self.ball_cen_right_list = ball_cen_right_list\n",
    "\n",
    "        if len(self.pre_ball_cen_left_list) or len(self.pre_ball_cen_right_list):\n",
    "            \n",
    "            for i in range(len(self.ball_cen_left_list)):\n",
    "\n",
    "                if left_flag:\n",
    "                    break   \n",
    "\n",
    "                x_cen = self.ball_cen_left_list[i][0]\n",
    "                \n",
    "                for j in range(len(self.pre_ball_cen_left_list)):\n",
    "\n",
    "                    pre_x_cen = self.pre_ball_cen_left_list[j][0]\n",
    "                    \n",
    "                    if x_cen > pre_x_cen:\n",
    "\n",
    "                        self.pre_ball_cen_left_list = self.ball_cen_left_list\n",
    "                        left_flag = True\n",
    "                        break\n",
    "                \n",
    "            for i in range(len(self.ball_cen_right_list)):\n",
    "\n",
    "                if right_flag:\n",
    "                    break   \n",
    "\n",
    "                x_cen = self.ball_cen_right_list[i][0]\n",
    "                \n",
    "                for j in range(len(self.pre_ball_cen_right_list)):\n",
    "\n",
    "                    pre_x_cen = self.pre_ball_cen_right_list[j][0]\n",
    "\n",
    "                    if x_cen < pre_x_cen:\n",
    "\n",
    "                        self.pre_ball_cen_right_list = self.ball_cen_right_list\n",
    "                        right_flag = True\n",
    "                        \n",
    "                        break\n",
    "                        \n",
    "            if left_flag == False and right_flag == False : \n",
    "                self.pre_ball_cen_left_list = []\n",
    "                self.pre_ball_cen_right_list = []\n",
    "                self.swing_check = False\n",
    "                return False\n",
    "\n",
    "            return True\n",
    "\n",
    "        else:\n",
    "            self.pre_ball_cen_left_list = self.ball_cen_left_list\n",
    "            self.pre_ball_cen_right_list = self.ball_cen_right_list\n",
    "\n",
    "            self.swing_check = False\n",
    "\n",
    "            return True"
   ]
  },
  {
   "cell_type": "code",
   "execution_count": 57,
   "id": "aac9c2ef",
   "metadata": {},
   "outputs": [],
   "source": [
    "estimation_ball = Ball_Pos_Estimation()"
   ]
  },
  {
   "cell_type": "code",
   "execution_count": 60,
   "id": "e59736f1",
   "metadata": {},
   "outputs": [
    {
     "name": "stdout",
     "output_type": "stream",
     "text": [
      "False\n"
     ]
    }
   ],
   "source": [
    "ball_cen_left =  [[419, 151]]\n",
    "ball_cen_right =  [[201, 153]]\n",
    "\n",
    "if estimation_ball.check_ball_move_update(ball_cen_left, ball_cen_right):\n",
    "    pass\n",
    "\n",
    "print(estimation_ball.swing_check)"
   ]
  },
  {
   "cell_type": "code",
   "execution_count": 61,
   "id": "da9354a4",
   "metadata": {},
   "outputs": [
    {
     "name": "stdout",
     "output_type": "stream",
     "text": [
      "False\n"
     ]
    }
   ],
   "source": [
    "ball_cen_left =  [[392, 160]]\n",
    "ball_cen_right =  [[223, 160]]\n",
    "\n",
    "if estimation_ball.check_ball_move_update(ball_cen_left, ball_cen_right):\n",
    "    pass\n",
    "\n",
    "print(estimation_ball.swing_check)"
   ]
  },
  {
   "cell_type": "code",
   "execution_count": 52,
   "id": "dbc6bf03",
   "metadata": {},
   "outputs": [
    {
     "data": {
      "text/plain": [
       "True"
      ]
     },
     "execution_count": 52,
     "metadata": {},
     "output_type": "execute_result"
    }
   ],
   "source": [
    "ball_cen_left =  [[281, 194], [716, 230]]\n",
    "ball_cen_right =  []\n",
    "\n",
    "estimation_ball.check_ball_move_update(ball_cen_left, ball_cen_right)"
   ]
  },
  {
   "cell_type": "code",
   "execution_count": 65,
   "id": "060f634a",
   "metadata": {},
   "outputs": [],
   "source": [
    "ball_pos_list = [np.nan,np.nan,np.nan]"
   ]
  },
  {
   "cell_type": "code",
   "execution_count": 67,
   "id": "00d6393c",
   "metadata": {},
   "outputs": [
    {
     "data": {
      "text/plain": [
       "True"
      ]
     },
     "execution_count": 67,
     "metadata": {},
     "output_type": "execute_result"
    }
   ],
   "source": [
    "np.isnan(ball_pos_list[0])"
   ]
  },
  {
   "cell_type": "code",
   "execution_count": 69,
   "id": "b84e0faf",
   "metadata": {},
   "outputs": [
    {
     "name": "stdout",
     "output_type": "stream",
     "text": [
      "2\n"
     ]
    }
   ],
   "source": [
    "a = 2\n",
    "\n",
    "if a == 1:\n",
    "    print(1)\n",
    "    \n",
    "elif a == 2:\n",
    "    print(2)"
   ]
  },
  {
   "cell_type": "code",
   "execution_count": 125,
   "id": "2489cfec",
   "metadata": {},
   "outputs": [],
   "source": [
    "\n",
    "\n",
    "def fx(x, dt):\n",
    "    # state transition function - predict next state based\n",
    "    # on constant velocity model x = vt + x_0\n",
    "\n",
    "    F = np.matrix([[1.0, 0.0, 0.0, dt, 0.0, 0.0, 1/2.0*dt**2, 0.0, 0.0],\n",
    "              [0.0, 1.0, 0.0, 0.0,  dt, 0.0, 0.0, 1/2.0*dt**2, 0.0],\n",
    "              [0.0, 0.0, 1.0, 0.0, 0.0,  dt, 0.0, 0.0, 1/2.0*dt**2],\n",
    "              [0.0, 0.0, 0.0, 1.0, 0.0, 0.0,  dt, 0.0, 0.0],\n",
    "              [0.0, 0.0, 0.0, 0.0, 1.0, 0.0, 0.0,  dt, 0.0],\n",
    "              [0.0, 0.0, 0.0, 0.0, 0.0, 1.0, 0.0, 0.0,  dt],\n",
    "              [0.0, 0.0, 0.0, 0.0, 0.0, 0.0, 1.0, 0.0, 0.0],\n",
    "              [0.0, 0.0, 0.0, 0.0, 0.0, 0.0, 0.0, 1.0, 0.0],\n",
    "              [0.0, 0.0, 0.0, 0.0, 0.0, 0.0, 0.0, 0.0, 1.0]])\n",
    "\n",
    "    return np.dot(F,x)\n",
    "\n",
    "def hx(x):\n",
    "    # measurement function - convert state into a measurement\n",
    "    # where measurements are [x_pos, y_pos]\n",
    "\n",
    "    \n",
    "    H = np.matrix([[1.0, 0.0, 0.0, 0.0, 0.0, 0.0, 0.0, 0.0, 0.0],\n",
    "                   [0.0, 1.0, 0.0, 0.0, 0.0, 0.0, 0.0, 0.0, 0.0],\n",
    "                   [0.0, 0.0, 1.0, 0.0, 0.0, 0.0, 0.0, 0.0, 0.0]])\n",
    "    \n",
    "    return np.array([x[0], x[3], x[6]])\n",
    "\n",
    "class UK_filter():\n",
    "\n",
    "    def __init__(self, dt, std_acc, x_std_meas, y_std_meas,z_std_meas, init_x, init_y, init_z):  \n",
    "    \n",
    "        self.init_x = init_x \n",
    "        self.init_y = init_y\n",
    "        self.init_z = init_z\n",
    "        \n",
    "        self.dt = dt\n",
    "        self.z_std = 0.1\n",
    "\n",
    "        self.points = MerweScaledSigmaPoints(9, alpha=.1, beta=2., kappa=-1)\n",
    "        self.f = UnscentedKalmanFilter(dim_x=9, dim_z=3, dt=self.dt, fx=fx, hx=hx, points=self.points)\n",
    "\n",
    "        self.f.x = np.array([self.init_x,0,0,self.init_y,0,0, self.init_z, 0,0])\n",
    "\n",
    "\n",
    "        self.f.P = np.eye(9)\n",
    "\n",
    "        self.f.Q = np.matrix([[(dt**6)/36, 0, 0, (dt**5)/12, 0, 0, (dt**4)/6, 0, 0],\n",
    "                           [0, (dt**6)/36, 0, 0, (dt**5)/12, 0, 0, (dt**4)/6, 0],\n",
    "                           [0, 0, (dt**6)/36, 0, 0, (dt**5)/12, 0, 0, (dt**4)/6],\n",
    "                           [(dt**5)/12, 0, 0, (dt**4)/4, 0, 0, (dt**3)/2, 0, 0],\n",
    "                           [0, (dt**5)/12, 0, 0, (dt**4)/4, 0, 0, (dt**3)/2, 0],\n",
    "                           [0, 0, (dt**5)/12, 0, 0, (dt**4)/4, 0, 0, (dt**3)/2],\n",
    "                           [(dt**4)/6, 0, 0, (dt**3)/2, 0, 0, (dt**2), 0, 0],\n",
    "                           [0, (dt**4)/6, 0, 0, (dt**3)/2, 0, 0, (dt**2), 0],\n",
    "                           [0, 0, (dt**4)/6, 0, 0, (dt**3)/2, 0, 0, (dt**2)]]) *std_acc**2\n",
    "\n",
    "\n",
    "        #self.f.Q = Q_discrete_white_noise(2, dt = self.dt, var = 0.01**2, block_size = 2)\n",
    "\n",
    "\n",
    "        self.f.R = np.array([[x_std_meas**2, 0, 0],\n",
    "                            [0, y_std_meas**2, 0],\n",
    "                            [0, 0, z_std_meas**2]])\n",
    "\n",
    "        #self.f.predict()"
   ]
  },
  {
   "cell_type": "code",
   "execution_count": 126,
   "id": "a1338a57",
   "metadata": {},
   "outputs": [],
   "source": [
    "a = UK_filter(dt = 0.1, std_acc = 10, x_std_meas = 1, y_std_meas = 1,z_std_meas = 1,\n",
    "              init_x = 0, init_y = 0, init_z = 0)"
   ]
  },
  {
   "cell_type": "code",
   "execution_count": 144,
   "id": "c43bb719",
   "metadata": {},
   "outputs": [],
   "source": [
    "a.f.predict()"
   ]
  },
  {
   "cell_type": "code",
   "execution_count": 128,
   "id": "caca1add",
   "metadata": {},
   "outputs": [],
   "source": [
    "a.f.update([1,1,1])"
   ]
  },
  {
   "cell_type": "code",
   "execution_count": 145,
   "id": "756a9caf",
   "metadata": {},
   "outputs": [
    {
     "data": {
      "text/plain": [
       "array([[ 1.63888382e+01,  8.46852953e-16, -8.95117314e-16],\n",
       "       [ 2.07578141e+01,  1.57245907e-15,  5.55111512e-16],\n",
       "       [ 2.66005113e+01,  6.79577922e-16,  5.29683669e-17]])"
      ]
     },
     "execution_count": 145,
     "metadata": {},
     "output_type": "execute_result"
    }
   ],
   "source": [
    "a.f.x.reshape([3,3])"
   ]
  },
  {
   "cell_type": "code",
   "execution_count": 131,
   "id": "45f654ba",
   "metadata": {},
   "outputs": [],
   "source": [
    "a.f.update([2,2,2])"
   ]
  },
  {
   "cell_type": "code",
   "execution_count": 137,
   "id": "6fcd5904",
   "metadata": {},
   "outputs": [],
   "source": [
    "a.f.update([10,10,10])"
   ]
  },
  {
   "cell_type": "code",
   "execution_count": 140,
   "id": "6f02ba72",
   "metadata": {},
   "outputs": [],
   "source": [
    "a.f.update([20,20,20])"
   ]
  },
  {
   "cell_type": "code",
   "execution_count": 143,
   "id": "4acc19c8",
   "metadata": {},
   "outputs": [],
   "source": [
    "a.f.update([30,30,30])"
   ]
  },
  {
   "cell_type": "code",
   "execution_count": 146,
   "id": "5c85f7bb",
   "metadata": {},
   "outputs": [],
   "source": [
    "ball_cand_trajectory =  [[], [[[-8.499031225886979, 0.311750401425118, 1.404671677765355]]], [[[-7.654383459951477, 0.37339492038427213, 1.528884790477008]]], [[[-6.812550514254101, 0.4358689710714039, 1.6515142171759307]]], [[[-6.005829995239098, 0.5240465335704965, 1.7282085158171043]]], [[[-5.174512338451282, 0.5984737933774342, 1.802634978706663]]], [[[-4.387167345972433, 0.6819632256971389, 1.8761140620728325]]], [[[-3.625711866264724, 0.7480947422039854, 1.9102820296223895]]], [[[-2.8421647085007566, 0.8618655406628255, 1.950691295218776]]], [[[-2.058537458662639, 1.064584863759384, 1.9592570246492662]]], [[]], [[]], [[]]]"
   ]
  },
  {
   "cell_type": "code",
   "execution_count": 147,
   "id": "2dc29a94",
   "metadata": {},
   "outputs": [
    {
     "data": {
      "text/plain": [
       "13"
      ]
     },
     "execution_count": 147,
     "metadata": {},
     "output_type": "execute_result"
    }
   ],
   "source": [
    "len(ball_cand_trajectory)"
   ]
  },
  {
   "cell_type": "code",
   "execution_count": 156,
   "id": "89b7008e",
   "metadata": {},
   "outputs": [
    {
     "data": {
      "text/plain": [
       "[-6.812550514254101, 0.4358689710714039, 1.6515142171759307]"
      ]
     },
     "execution_count": 156,
     "metadata": {},
     "output_type": "execute_result"
    }
   ],
   "source": [
    "ball_cand_trajectory[3][0][0]"
   ]
  },
  {
   "cell_type": "code",
   "execution_count": 157,
   "id": "d47d8c3e",
   "metadata": {},
   "outputs": [],
   "source": [
    "ball_pos_list = [[-1,0,0], [1,3,4],[2,4,5]]"
   ]
  },
  {
   "cell_type": "code",
   "execution_count": 179,
   "id": "80f69680",
   "metadata": {},
   "outputs": [],
   "source": [
    "b = np.array(ball_pos_list)"
   ]
  },
  {
   "cell_type": "code",
   "execution_count": 180,
   "id": "7b4e7ee7",
   "metadata": {},
   "outputs": [
    {
     "data": {
      "text/plain": [
       "0"
      ]
     },
     "execution_count": 180,
     "metadata": {},
     "output_type": "execute_result"
    }
   ],
   "source": [
    "b[:,0].argmin()"
   ]
  },
  {
   "cell_type": "code",
   "execution_count": 181,
   "id": "b0f07e8c",
   "metadata": {},
   "outputs": [
    {
     "data": {
      "text/plain": [
       "array([-1,  0,  0])"
      ]
     },
     "execution_count": 181,
     "metadata": {},
     "output_type": "execute_result"
    }
   ],
   "source": [
    "b[:][0]"
   ]
  },
  {
   "cell_type": "code",
   "execution_count": 173,
   "id": "ba12dc70",
   "metadata": {},
   "outputs": [],
   "source": [
    "a = [0, 0, 0]\n",
    "b = [1, 2, 3]\n",
    "\n",
    "\n",
    "\n",
    "def get_distance(point_1, point_2):\n",
    "\n",
    "    return (np.sqrt((point_2[0]-point_1[0])**2 + (point_2[1]-point_1[1])**2 + (point_2[2]-point_1[2])**2))\n"
   ]
  },
  {
   "cell_type": "code",
   "execution_count": 175,
   "id": "e930666c",
   "metadata": {},
   "outputs": [
    {
     "data": {
      "text/plain": [
       "3.7416573867739413"
      ]
     },
     "execution_count": 175,
     "metadata": {},
     "output_type": "execute_result"
    }
   ],
   "source": [
    "get_distance(a,b)"
   ]
  },
  {
   "cell_type": "code",
   "execution_count": 182,
   "id": "f104f800",
   "metadata": {},
   "outputs": [],
   "source": [
    "ball_pos_list = [[-7.923465928004007, -0.6755867599611189, 2.580941671512611]]"
   ]
  },
  {
   "cell_type": "code",
   "execution_count": 189,
   "id": "b95092a1",
   "metadata": {},
   "outputs": [],
   "source": [
    "x_pos, y_pos, z_pos = ball_pos_list[np.array(ball_pos_list)[:,0].argmin()]\n"
   ]
  },
  {
   "cell_type": "code",
   "execution_count": 188,
   "id": "4a41d666",
   "metadata": {},
   "outputs": [
    {
     "data": {
      "text/plain": [
       "0"
      ]
     },
     "execution_count": 188,
     "metadata": {},
     "output_type": "execute_result"
    }
   ],
   "source": [
    "np.array(ball_pos_list)[:,0].argmin()\n"
   ]
  },
  {
   "cell_type": "code",
   "execution_count": 190,
   "id": "4007a943",
   "metadata": {},
   "outputs": [
    {
     "data": {
      "text/plain": [
       "(-7.923465928004007, -0.6755867599611189, 2.580941671512611)"
      ]
     },
     "execution_count": 190,
     "metadata": {},
     "output_type": "execute_result"
    }
   ],
   "source": [
    "x_pos, y_pos, z_pos"
   ]
  },
  {
   "cell_type": "code",
   "execution_count": 4,
   "id": "37773910",
   "metadata": {},
   "outputs": [],
   "source": [
    "a = np.array([[1,2,3],[0,-5,0],[-8,0,0]])\n"
   ]
  },
  {
   "cell_type": "code",
   "execution_count": 201,
   "id": "68138fc8",
   "metadata": {},
   "outputs": [],
   "source": [
    "a.append([[1,2],[3,4]])"
   ]
  },
  {
   "cell_type": "code",
   "execution_count": 202,
   "id": "541aa1d5",
   "metadata": {},
   "outputs": [
    {
     "data": {
      "text/plain": [
       "[[1, 2, 3], [[1, 2], [3, 4]]]"
      ]
     },
     "execution_count": 202,
     "metadata": {},
     "output_type": "execute_result"
    }
   ],
   "source": [
    "a"
   ]
  },
  {
   "cell_type": "code",
   "execution_count": 1,
   "id": "9c746f0c",
   "metadata": {},
   "outputs": [],
   "source": [
    "from kalman_utils.KFilter import *"
   ]
  },
  {
   "cell_type": "code",
   "execution_count": 2,
   "id": "154300cb",
   "metadata": {},
   "outputs": [],
   "source": [
    "dT = 1 / 25"
   ]
  },
  {
   "cell_type": "code",
   "execution_count": 3,
   "id": "e851b86c",
   "metadata": {},
   "outputs": [],
   "source": [
    "ball_pos =  [-9.285799665284836, -1.5959832449913565, 2.874695965876609]"
   ]
  },
  {
   "cell_type": "code",
   "execution_count": 4,
   "id": "d7c4469d",
   "metadata": {},
   "outputs": [
    {
     "name": "stdout",
     "output_type": "stream",
     "text": [
      "nstates 7\n",
      "transitionMatrix: shape:(7, 7)\n",
      "[[1. 0. 0. 0. 0. 0. 0.]\n",
      " [0. 1. 0. 0. 0. 0. 0.]\n",
      " [0. 0. 1. 0. 0. 0. 0.]\n",
      " [0. 0. 0. 1. 0. 0. 0.]\n",
      " [0. 0. 0. 0. 1. 0. 0.]\n",
      " [0. 0. 0. 0. 0. 1. 0.]\n",
      " [0. 0. 0. 0. 0. 0. 1.]]\n",
      "measurementMatrix: shape:(3, 7)\n",
      "[[1. 0. 0. 0. 0. 0. 0.]\n",
      " [0. 1. 0. 0. 0. 0. 0.]\n",
      " [0. 0. 1. 0. 0. 0. 0.]]\n",
      "processNoiseCov: shape:(7, 7)\n",
      "[[1.e-06 0.e+00 0.e+00 0.e+00 0.e+00 0.e+00 0.e+00]\n",
      " [0.e+00 1.e-06 0.e+00 0.e+00 0.e+00 0.e+00 0.e+00]\n",
      " [0.e+00 0.e+00 1.e-06 0.e+00 0.e+00 0.e+00 0.e+00]\n",
      " [0.e+00 0.e+00 0.e+00 8.e+00 0.e+00 0.e+00 0.e+00]\n",
      " [0.e+00 0.e+00 0.e+00 0.e+00 8.e+00 0.e+00 0.e+00]\n",
      " [0.e+00 0.e+00 0.e+00 0.e+00 0.e+00 8.e+00 0.e+00]\n",
      " [0.e+00 0.e+00 0.e+00 0.e+00 0.e+00 0.e+00 1.e-06]]\n",
      "measurementNoiseCov: shape:(3, 3)\n",
      "[[1.e-06 0.e+00 0.e+00]\n",
      " [0.e+00 1.e-06 0.e+00]\n",
      " [0.e+00 0.e+00 1.e-06]]\n",
      "statePost: shape:(7, 1)\n",
      "[[-9.2858   ]\n",
      " [-1.5959833]\n",
      " [ 2.874696 ]\n",
      " [ 0.1      ]\n",
      " [ 0.1      ]\n",
      " [ 0.1      ]\n",
      " [ 9.801    ]]\n",
      "1111\n"
     ]
    }
   ],
   "source": [
    "kf = Kalman_filiter(ball_pos[0], ball_pos[1], ball_pos[2], dT)"
   ]
  },
  {
   "cell_type": "code",
   "execution_count": 5,
   "id": "09fdc286",
   "metadata": {},
   "outputs": [
    {
     "data": {
      "text/plain": [
       "array([-9.2858   , -1.5959833,  2.874696 ], dtype=float32)"
      ]
     },
     "execution_count": 5,
     "metadata": {},
     "output_type": "execute_result"
    }
   ],
   "source": [
    "kf.get_predict()"
   ]
  },
  {
   "cell_type": "code",
   "execution_count": 28,
   "id": "4c15cb39",
   "metadata": {},
   "outputs": [],
   "source": [
    "ball_pos_list =  [[-8.3324296128703, -1.426689529754115, 2.8019436403665923],[-7.459506668999277, -1.286501720742379, 2.720148095378055],[-6.540641694266555, -1.135716227096026, 2.6019241593327513],[-5.68329300302514, -0.9730271651650142, 2.519130845990981]]"
   ]
  },
  {
   "cell_type": "code",
   "execution_count": 7,
   "id": "40c5f3b7",
   "metadata": {},
   "outputs": [
    {
     "name": "stdout",
     "output_type": "stream",
     "text": [
      "dT: 0.4000\n",
      "---------------------------------------------------\n",
      "meas current               : [-8.33243   -1.4266895  2.8019435]\n",
      "pred predicted             : [-8.789115  -1.4913363  2.8583198]\n",
      "\n"
     ]
    }
   ],
   "source": [
    "kf.update(ball_pos[0], ball_pos[1], ball_pos[2], dT)"
   ]
  },
  {
   "cell_type": "code",
   "execution_count": 8,
   "id": "b4c0197c",
   "metadata": {},
   "outputs": [
    {
     "name": "stdout",
     "output_type": "stream",
     "text": [
      "dT: 0.4000\n",
      "---------------------------------------------------\n",
      "meas current               : [-7.4595065 -1.2865018  2.720148 ]\n",
      "pred predicted             : [-7.4595075 -1.2865019  2.7201471]\n",
      "\n"
     ]
    }
   ],
   "source": [
    "ball_pos =  ball_pos_list.pop(0)\n",
    "kf.update(ball_pos[0], ball_pos[1], ball_pos[2], dT)"
   ]
  },
  {
   "cell_type": "code",
   "execution_count": 9,
   "id": "c6e6190e",
   "metadata": {},
   "outputs": [
    {
     "name": "stdout",
     "output_type": "stream",
     "text": [
      "dT: 0.4000\n",
      "---------------------------------------------------\n",
      "meas current               : [-6.540642  -1.1357162  2.6019242]\n",
      "pred predicted             : [-6.5406413 -1.1357162  2.601923 ]\n",
      "\n"
     ]
    }
   ],
   "source": [
    "ball_pos =  ball_pos_list.pop(0)\n",
    "kf.update(ball_pos[0], ball_pos[1], ball_pos[2], dT)"
   ]
  },
  {
   "cell_type": "code",
   "execution_count": 10,
   "id": "d8dcbf58",
   "metadata": {},
   "outputs": [
    {
     "name": "stdout",
     "output_type": "stream",
     "text": [
      "dT: 0.4000\n",
      "---------------------------------------------------\n",
      "meas current               : [-5.683293   -0.97302717  2.519131  ]\n",
      "pred predicted             : [-5.683293   -0.97302717  2.5191298 ]\n",
      "\n"
     ]
    }
   ],
   "source": [
    "ball_pos =  ball_pos_list.pop(0)\n",
    "kf.update(ball_pos[0], ball_pos[1], ball_pos[2], dT)"
   ]
  },
  {
   "cell_type": "code",
   "execution_count": 11,
   "id": "713ec120",
   "metadata": {},
   "outputs": [
    {
     "name": "stdout",
     "output_type": "stream",
     "text": [
      "dT: 0.4000\n",
      "---------------------------------------------------\n",
      "meas current               : None (only predicting)\n",
      "pred predicted without meas: [-4.8259444 -0.8103382  0.8681732]\n",
      "\n"
     ]
    }
   ],
   "source": [
    "kf.predict(dT)"
   ]
  },
  {
   "cell_type": "code",
   "execution_count": 12,
   "id": "63653055",
   "metadata": {},
   "outputs": [
    {
     "name": "stdout",
     "output_type": "stream",
     "text": [
      "dT: 0.4000\n",
      "---------------------------------------------------\n",
      "meas current               : None (only predicting)\n",
      "pred predicted without meas: [-3.968596  -0.6476492 -2.3509436]\n",
      "\n"
     ]
    }
   ],
   "source": [
    "kf.predict(dT)"
   ]
  },
  {
   "cell_type": "code",
   "execution_count": 13,
   "id": "6104cd18",
   "metadata": {},
   "outputs": [
    {
     "data": {
      "text/plain": [
       "array([-3.968596 , -0.6476492, -2.3509436], dtype=float32)"
      ]
     },
     "execution_count": 13,
     "metadata": {},
     "output_type": "execute_result"
    }
   ],
   "source": [
    "kf.get_predict()"
   ]
  },
  {
   "cell_type": "code",
   "execution_count": 14,
   "id": "340b7887",
   "metadata": {
    "scrolled": true
   },
   "outputs": [
    {
     "data": {
      "text/plain": [
       "array([-3.968596 , -0.6476492, -2.3509436], dtype=float32)"
      ]
     },
     "execution_count": 14,
     "metadata": {},
     "output_type": "execute_result"
    }
   ],
   "source": [
    "kf.KF.getPostState()"
   ]
  },
  {
   "cell_type": "code",
   "execution_count": 31,
   "id": "cf7df15f",
   "metadata": {},
   "outputs": [
    {
     "data": {
      "text/plain": [
       "array([-1.42668953, -1.28650172, -1.13571623, -0.97302717])"
      ]
     },
     "execution_count": 31,
     "metadata": {},
     "output_type": "execute_result"
    }
   ],
   "source": [
    "np .array(ball_pos_list)[:,1][:-1]"
   ]
  },
  {
   "cell_type": "code",
   "execution_count": 33,
   "id": "725d70c1",
   "metadata": {},
   "outputs": [
    {
     "data": {
      "text/plain": [
       "-1.2829691591975065"
      ]
     },
     "execution_count": 33,
     "metadata": {},
     "output_type": "execute_result"
    }
   ],
   "source": [
    "np.mean(np.array(ball_pos_list)[:,1][:-1])"
   ]
  },
  {
   "cell_type": "code",
   "execution_count": 34,
   "id": "a8d371f6",
   "metadata": {},
   "outputs": [],
   "source": [
    "a = [[[-9.039131345617234, -0.8137119203553631, 2.7444703070749017]], [[-7.900829857194978, -0.654493068471937, 2.6104207999239812]], [[-6.849655790366586, -0.5241522117656086, 2.4875451129360613]], [[-5.793390039377407, -0.39658750289812605, 2.3529254544909817]]]\n"
   ]
  },
  {
   "cell_type": "code",
   "execution_count": 46,
   "id": "f069b383",
   "metadata": {},
   "outputs": [
    {
     "data": {
      "text/plain": [
       "array([[-9.03913135, -0.81371192,  2.74447031],\n",
       "       [-7.90082986, -0.65449307,  2.6104208 ],\n",
       "       [-6.84965579, -0.52415221,  2.48754511],\n",
       "       [-5.79339004, -0.3965875 ,  2.35292545]])"
      ]
     },
     "execution_count": 46,
     "metadata": {},
     "output_type": "execute_result"
    }
   ],
   "source": [
    "b = np.array(a).reshape([-1,3])\n",
    "b"
   ]
  },
  {
   "cell_type": "code",
   "execution_count": 50,
   "id": "01fe103c",
   "metadata": {},
   "outputs": [
    {
     "data": {
      "text/plain": [
       "10.428110436430925"
      ]
     },
     "execution_count": 50,
     "metadata": {},
     "output_type": "execute_result"
    }
   ],
   "source": [
    "sum(np.diff(b[:,1])) / 0.04"
   ]
  },
  {
   "cell_type": "code",
   "execution_count": 51,
   "id": "b6e72d1d",
   "metadata": {},
   "outputs": [],
   "source": [
    "for i in []:\n",
    "    print(1)"
   ]
  },
  {
   "cell_type": "code",
   "execution_count": 65,
   "id": "9e9ba51a",
   "metadata": {},
   "outputs": [
    {
     "data": {
      "text/plain": [
       "array([[-9.03913135, -0.81371192,  2.74447031]])"
      ]
     },
     "execution_count": 65,
     "metadata": {},
     "output_type": "execute_result"
    }
   ],
   "source": [
    "ball_cand_pos = [[-9.03913135, -0.81371192,  2.74447031],\n",
    "       [-7.90082986, -0.65449307,  2.6104208 ],\n",
    "       [-6.84965579, -0.52415221,  2.48754511],\n",
    "       [-5.79339004, -0.3965875 ,  2.35292545]]\n",
    "\n",
    "del_list = [1,2,3]\n",
    "\n",
    "a= np.array(ball_cand_pos)\n",
    "\n",
    "np.delete(a,del_list,axis = 0)"
   ]
  },
  {
   "cell_type": "code",
   "execution_count": 58,
   "id": "60d4a11c",
   "metadata": {},
   "outputs": [
    {
     "ename": "TypeError",
     "evalue": "'tuple' object cannot be interpreted as an integer",
     "output_type": "error",
     "traceback": [
      "\u001b[0;31m---------------------------------------------------------------------------\u001b[0m",
      "\u001b[0;31mTypeError\u001b[0m                                 Traceback (most recent call last)",
      "\u001b[0;32m<ipython-input-58-6c36907ee951>\u001b[0m in \u001b[0;36m<module>\u001b[0;34m\u001b[0m\n\u001b[0;32m----> 1\u001b[0;31m \u001b[0mball_cand_pos\u001b[0m\u001b[0;34m.\u001b[0m\u001b[0mpop\u001b[0m\u001b[0;34m(\u001b[0m\u001b[0mtuple\u001b[0m\u001b[0;34m(\u001b[0m\u001b[0mdel_list\u001b[0m\u001b[0;34m)\u001b[0m\u001b[0;34m)\u001b[0m\u001b[0;34m\u001b[0m\u001b[0;34m\u001b[0m\u001b[0m\n\u001b[0m",
      "\u001b[0;31mTypeError\u001b[0m: 'tuple' object cannot be interpreted as an integer"
     ]
    }
   ],
   "source": [
    "ball_cand_pos.pop(tuple(del_list))"
   ]
  },
  {
   "cell_type": "code",
   "execution_count": 57,
   "id": "7123bd62",
   "metadata": {},
   "outputs": [
    {
     "data": {
      "text/plain": [
       "(1, 2, 3)"
      ]
     },
     "execution_count": 57,
     "metadata": {},
     "output_type": "execute_result"
    }
   ],
   "source": [
    "tuple(del_list)"
   ]
  },
  {
   "cell_type": "code",
   "execution_count": 66,
   "id": "fcdc407e",
   "metadata": {},
   "outputs": [
    {
     "name": "stdout",
     "output_type": "stream",
     "text": [
      "1\n"
     ]
    }
   ],
   "source": [
    "if 3 == 3:\n",
    "    print(1)"
   ]
  },
  {
   "cell_type": "code",
   "execution_count": 12,
   "id": "80ba27fd",
   "metadata": {},
   "outputs": [
    {
     "data": {
      "text/plain": [
       "array([[-8.07599223, -2.0712591 ,  2.0143476 ],\n",
       "       [-7.04161442, -1.965448  ,  1.99850849],\n",
       "       [-6.0650447 , -1.87983276,  1.96358724],\n",
       "       [-5.10718376, -1.79681808,  1.92561499],\n",
       "       [-4.16983273, -1.68381074,  1.88475916],\n",
       "       [-3.26119581, -1.56440431,  1.81101189],\n",
       "       [-2.36864932, -1.48058071,  1.73702841],\n",
       "       [-1.48342007, -1.3789657 ,  1.64963678],\n",
       "       [-0.7006541 , -1.2862464 ,  1.55800978]])"
      ]
     },
     "execution_count": 12,
     "metadata": {},
     "output_type": "execute_result"
    }
   ],
   "source": [
    "estimation_ball_trajectory_list =  np.array([[-8.075992233062022, -2.0712591029119727, 2.0143476038492176], [-7.041614424760605, -1.9654479963268496, 1.998508488845969], [-6.065044696824322, -1.879832764271466, 1.9635872373067076], [-5.107183755941063, -1.7968180783990304, 1.925614986159784], [-4.169832727705863, -1.6838107370497974, 1.884759164010521], [-3.2611958072772738, -1.5644043096331428, 1.81101188769961], [-2.368649316849956, -1.4805807124989778, 1.737028408823873], [-1.4834200661316506, -1.378965700223568, 1.6496367839315553], [-0.7006541039923906, -1.2862463955187806, 1.5580097756344515]])\n",
    "estimation_ball_trajectory_list"
   ]
  },
  {
   "cell_type": "code",
   "execution_count": 14,
   "id": "f2ff7498",
   "metadata": {},
   "outputs": [],
   "source": [
    "x_pos_list = estimation_ball_trajectory_list[:,0]\n",
    "y_pos_list = estimation_ball_trajectory_list[:,1]\n",
    "z_pos_list = estimation_ball_trajectory_list[:,2]\n"
   ]
  },
  {
   "cell_type": "code",
   "execution_count": 7,
   "id": "a4f76a0a",
   "metadata": {},
   "outputs": [
    {
     "data": {
      "text/plain": [
       "array([[ 6.00473313,  4.08560671],\n",
       "       [ 5.07616643,  3.96395649],\n",
       "       [ 4.18521193,  3.84342   ],\n",
       "       [ 3.31036568,  3.72243306],\n",
       "       [ 2.48602199,  3.5685699 ],\n",
       "       [ 1.6967915 ,  3.3754162 ],\n",
       "       [ 0.8880686 ,  3.21760912],\n",
       "       [ 0.10445437,  3.02860248],\n",
       "       [-0.58559229,  2.84425617]])"
      ]
     },
     "execution_count": 7,
     "metadata": {},
     "output_type": "execute_result"
    }
   ],
   "source": [
    "np.diff(estimation_ball_trajectory_list)"
   ]
  },
  {
   "cell_type": "code",
   "execution_count": 15,
   "id": "35997e65",
   "metadata": {},
   "outputs": [
    {
     "data": {
      "text/plain": [
       "0.78276596213926"
      ]
     },
     "execution_count": 15,
     "metadata": {},
     "output_type": "execute_result"
    }
   ],
   "source": [
    "x_pos_list\n",
    "np.diff(x_pos_list)[-1]"
   ]
  },
  {
   "cell_type": "code",
   "execution_count": 22,
   "id": "06a2fba2",
   "metadata": {},
   "outputs": [],
   "source": [
    "def cal_landing_point(pos_list):\n",
    "\n",
    "    t_list = []\n",
    "\n",
    "    if len(pos_list) < 4 : return [np.nan, np.nan, np.nan]\n",
    "\n",
    "    pos = pos_list[-1]\n",
    "\n",
    "    x0, y0, z0 = pos[0], pos[1], pos[2]\n",
    "\n",
    "    vx, vy, vz = get_velocity(pos_list)\n",
    "\n",
    "    a = -((0.5 * 0.507 * 1.2041 * np.pi * (0.033 ** 2) * vz ** 2 ) / 0.057 + 9.8 / 2 )\n",
    "    b = vz\n",
    "    c = z0\n",
    "\n",
    "    t_list.append((-b + np.sqrt(b ** 2 - 4 * a * c))/(2 * a))\n",
    "    t_list.append((-b - np.sqrt(b ** 2 - 4 * a * c))/(2 * a))\n",
    "\n",
    "    t = max(t_list)\n",
    "    \n",
    "    x = np.array(x0 + vx * t - (0.5 * 0.507 * 1.2041 * np.pi * (0.033 ** 2) * vx ** 2 ) * (t ** 2) / 0.057,float)\n",
    "    y = np.array(y0 + vy * t - (0.5 * 0.507 * 1.2041 * np.pi * (0.033 ** 2) * vy ** 2 ) * (t ** 2) / 0.057,float)\n",
    "    z = np.array(z0 + vz * t - ((0.5 * 0.507 * 1.2041 * np.pi * (0.033 ** 2) * vz ** 2 ) / 0.057 + 9.8 / 2) * (t ** 2),float)\n",
    "    \n",
    "    return [np.round(x,3), np.round(y,3), np.round(z,3)]\n",
    "\n",
    "\n",
    "def get_velocity(pos_list):\n",
    "    \n",
    "    t = 1 / 30\n",
    "    \n",
    "    np_pos_list = np.array(pos_list)\n",
    "\n",
    "    x_pos_list = np_pos_list[:,0]\n",
    "    y_pos_list = np_pos_list[:,1]\n",
    "    z_pos_list = np_pos_list[:,2]  \n",
    "\n",
    "    vel_x_list = np.diff(x_pos_list) / t\n",
    "    vel_y_list = np.diff(y_pos_list) / t\n",
    "    vel_z_list = np.diff(z_pos_list) / t\n",
    "\n",
    "    return vel_x_list[-1], vel_y_list[-1], vel_z_list[-1]\n"
   ]
  },
  {
   "cell_type": "code",
   "execution_count": 23,
   "id": "06060d09",
   "metadata": {},
   "outputs": [
    {
     "data": {
      "text/plain": [
       "[[-7.654350032583985, 0.37375046201544926, 1.5602039272816657],\n",
       " [-6.812516855329211, 0.4362023210314696, 1.6809758292885233],\n",
       " [-6.005632695613204, 0.5230876456730043, 1.7703496818844444],\n",
       " [-5.17434312120148, 0.5969135946437563, 1.842121410014573],\n",
       " [-4.40319049584631, 0.6610575247176333, 1.90162399321874],\n",
       " [-3.6256202508366666, 0.7485738124651196, 1.9551274411299535],\n",
       " [-2.8420151676001075, 0.8677493333923483, 1.980619130934988],\n",
       " [-2.058931199304543, 0.9710952377297057, 1.9892246369063118],\n",
       " [-1.3541772365570068, 1.0641107559204102, 1.9812870025634766],\n",
       " [-0.7198931574821472, 1.1478245258331299, 1.9584616422653198],\n",
       " [-0.14903749525547028, 1.223166823387146, 1.9222372770309448]]"
      ]
     },
     "execution_count": 23,
     "metadata": {},
     "output_type": "execute_result"
    }
   ],
   "source": [
    "ball_pos_jrajectory = [[-7.654350032583985, 0.37375046201544926, 1.5602039272816657], [-6.812516855329211, 0.4362023210314696, 1.6809758292885233], [-6.005632695613204, 0.5230876456730043, 1.7703496818844444], [-5.17434312120148, 0.5969135946437563, 1.842121410014573], [-4.40319049584631, 0.6610575247176333, 1.90162399321874], [-3.6256202508366666, 0.7485738124651196, 1.9551274411299535], [-2.8420151676001075, 0.8677493333923483, 1.980619130934988], [-2.058931199304543, 0.9710952377297057, 1.9892246369063118], [-1.3541772365570068, 1.0641107559204102, 1.9812870025634766], [-0.7198931574821472, 1.1478245258331299, 1.9584616422653198], [-0.14903749525547028, 1.223166823387146, 1.9222372770309448]]\n",
    "ball_pos_jrajectory"
   ]
  },
  {
   "cell_type": "code",
   "execution_count": 24,
   "id": "77fcd27e",
   "metadata": {},
   "outputs": [
    {
     "data": {
      "text/plain": [
       "[7.352, 2.382, 0.0]"
      ]
     },
     "execution_count": 24,
     "metadata": {},
     "output_type": "execute_result"
    }
   ],
   "source": [
    "cal_landing_point(ball_pos_jrajectory)"
   ]
  },
  {
   "cell_type": "code",
   "execution_count": 26,
   "id": "0c981c9f",
   "metadata": {},
   "outputs": [],
   "source": [
    "a = np.array([    -3.1019,     -2.3294,      -1.513])"
   ]
  },
  {
   "cell_type": "code",
   "execution_count": 29,
   "id": "e01371ab",
   "metadata": {},
   "outputs": [
    {
     "data": {
      "text/plain": [
       "19.861250000000002"
      ]
     },
     "execution_count": 29,
     "metadata": {},
     "output_type": "execute_result"
    }
   ],
   "source": [
    "np.mean(np.diff(a))/(1/25)"
   ]
  },
  {
   "cell_type": "code",
   "execution_count": 28,
   "id": "fd46ce3e",
   "metadata": {},
   "outputs": [
    {
     "data": {
      "text/plain": [
       "array([0.7725, 0.8164])"
      ]
     },
     "execution_count": 28,
     "metadata": {},
     "output_type": "execute_result"
    }
   ],
   "source": [
    "np.diff(a)/(1/25)"
   ]
  },
  {
   "cell_type": "code",
   "execution_count": 46,
   "id": "21447220",
   "metadata": {},
   "outputs": [],
   "source": [
    "x0, y0, z0 =  -0.14778512716293335, -3.731870412826538, 2.6436607837677\n",
    "vx, vy, vz =  13.437911868095398, 0.15355348587036133, 0.08598566055297852\n",
    "\n"
   ]
  },
  {
   "cell_type": "code",
   "execution_count": 49,
   "id": "7b383d4a",
   "metadata": {},
   "outputs": [
    {
     "data": {
      "text/plain": [
       "[9.841, -3.618, 0.0]"
      ]
     },
     "execution_count": 49,
     "metadata": {},
     "output_type": "execute_result"
    }
   ],
   "source": [
    "t_list = []\n",
    "a = -((0.5 * 0.507 * 1.2041 * np.pi * (0.033 ** 2) * vz ** 2 ) / 0.057 + 9.8 / 2 )\n",
    "b = vz\n",
    "c = z0\n",
    "\n",
    "t_list.append((-b + np.sqrt(b ** 2 - 4 * a * c))/(2 * a))\n",
    "t_list.append((-b - np.sqrt(b ** 2 - 4 * a * c))/(2 * a))\n",
    "\n",
    "t = max(t_list)\n",
    "\n",
    "drag_x = (0.5 * 0.507 * 1.2041 * np.pi * (0.033 ** 2) * vx ** 2 )\n",
    "drag_y = (0.5 * 0.507 * 1.2041 * np.pi * (0.033 ** 2) * vy ** 2 )\n",
    "drag_z = (0.5 * 0.507 * 1.2041 * np.pi * (0.033 ** 2) * vz ** 2 )\n",
    "\n",
    "drag_x = 0\n",
    "drag_y = 0\n",
    "drag_z = 0\n",
    "\n",
    "x = np.array(x0 + vx * t - drag_x * (t ** 2) / 0.057,float)\n",
    "y = np.array(y0 + vy * t - drag_y * (t ** 2) / 0.057,float)\n",
    "z = np.array(z0 + vz * t - (drag_z / 0.057 + 9.8 / 2) * (t ** 2),float)\n",
    "\n",
    "[np.round(x,3), np.round(y,3), np.round(z,3)]\n"
   ]
  },
  {
   "cell_type": "code",
   "execution_count": 35,
   "id": "deb7953e",
   "metadata": {},
   "outputs": [
    {
     "data": {
      "text/plain": [
       "[-0.7671826894274586, 0.7029915699965572]"
      ]
     },
     "execution_count": 35,
     "metadata": {},
     "output_type": "execute_result"
    }
   ],
   "source": [
    "t_list"
   ]
  },
  {
   "cell_type": "code",
   "execution_count": null,
   "id": "be950712",
   "metadata": {},
   "outputs": [],
   "source": []
  }
 ],
 "metadata": {
  "kernelspec": {
   "display_name": "Python 3",
   "language": "python",
   "name": "python3"
  },
  "language_info": {
   "codemirror_mode": {
    "name": "ipython",
    "version": 3
   },
   "file_extension": ".py",
   "mimetype": "text/x-python",
   "name": "python",
   "nbconvert_exporter": "python",
   "pygments_lexer": "ipython3",
   "version": "3.6.13"
  }
 },
 "nbformat": 4,
 "nbformat_minor": 5
}
